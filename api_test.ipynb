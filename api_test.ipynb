{
 "cells": [
  {
   "cell_type": "markdown",
   "metadata": {},
   "source": [
    "# TSE TAKEHOME DATASET\n",
    "## Creating a Data Analysis Assistant\n"
   ]
  },
  {
   "cell_type": "code",
   "execution_count": 130,
   "metadata": {},
   "outputs": [
    {
     "name": "stdout",
     "output_type": "stream",
     "text": [
      "environ({'COMMAND_MODE': 'unix2003', 'HOME': '/Users/bytedance', 'LOGNAME': 'bytedance', 'MallocNanoZone': '0', 'ORIGINAL_XDG_CURRENT_DESKTOP': 'undefined', 'PATH': '/Users/bytedance/Documents/python-env/.venv/bin:/Library/Frameworks/Python.framework/Versions/3.11/bin:/opt/anaconda3/bin:/usr/local/bin:/System/Cryptexes/App/usr/bin:/usr/bin:/bin:/usr/sbin:/sbin:/usr/local/sbin:/opt/puppetlabs/bin:/var/run/com.apple.security.cryptexd/codex.system/bootstrap/usr/local/bin:/var/run/com.apple.security.cryptexd/codex.system/bootstrap/usr/bin:/var/run/com.apple.security.cryptexd/codex.system/bootstrap/usr/appleinternal/bin', 'PWD': '/', 'SHELL': '/bin/bash', 'SHLVL': '2', 'SSH_AUTH_SOCK': '/private/tmp/com.apple.launchd.IAi0IW9bfk/Listeners', 'TMPDIR': '/var/folders/fn/vkcznhxx1sv7ym1hswkzbs680000gn/T/', 'USER': 'bytedance', 'VSCODE_AMD_ENTRYPOINT': 'vs/workbench/api/node/extensionHostProcess', 'VSCODE_CODE_CACHE_PATH': '/Users/bytedance/Library/Application Support/Code/CachedData/dc96b837cf6bb4af9cd736aa3af08cf8279f7685', 'VSCODE_CRASH_REPORTER_PROCESS_TYPE': 'extensionHost', 'VSCODE_CWD': '/', 'VSCODE_HANDLES_UNCAUGHT_ERRORS': 'true', 'VSCODE_IPC_HOOK': '/Users/bytedance/Library/Application Support/Code/1.89-main.sock', 'VSCODE_NLS_CONFIG': '{\"locale\":\"en-us\",\"osLocale\":\"en-us\",\"availableLanguages\":{},\"_languagePackSupport\":true}', 'VSCODE_PID': '10705', 'XPC_FLAGS': '0x0', 'XPC_SERVICE_NAME': '0', '_': '/Users/bytedance/Documents/python-env/.venv/bin/python', '__CFBundleIdentifier': 'com.microsoft.VSCode', '__CF_USER_TEXT_ENCODING': '0x1F5:0x0:0x0', 'ELECTRON_RUN_AS_NODE': '1', 'PYTHONUNBUFFERED': '1', 'PYTHONIOENCODING': 'utf-8', 'VIRTUAL_ENV': '/Users/bytedance/Documents/python-env/.venv', 'PS1': '(.venv) ', 'VIRTUAL_ENV_PROMPT': '(.venv) ', 'LC_CTYPE': 'UTF-8', 'PYDEVD_IPYTHON_COMPATIBLE_DEBUGGING': '1', 'PYTHON_FROZEN_MODULES': 'on', 'PYDEVD_USE_FRAME_EVAL': 'NO', 'TERM': 'xterm-color', 'CLICOLOR': '1', 'FORCE_COLOR': '1', 'CLICOLOR_FORCE': '1', 'PAGER': 'cat', 'GIT_PAGER': 'cat', 'MPLBACKEND': 'module://matplotlib_inline.backend_inline', 'OPENAI_API_KEY': 'sk-proj-9RMMyJQVC22NXEVnmi4QT3BlbkFJKPxi3DAxMNv9x6G2Zjai'})\n",
      "sk-proj-9RMMyJQVC22NXEVnmi4QT3BlbkFJKPxi3DAxMNv9x6G2Zjai\n"
     ]
    }
   ],
   "source": [
    "#Package Imports\n",
    "\n",
    "from openai import OpenAI # type: ignore\n",
    "import pandas as pd  # type: ignore\n",
    "import dotenv # type: ignore\n",
    "import os\n",
    "import json\n",
    "from openai.types.beta.threads.text_content_block import TextContentBlock # type: ignore\n",
    "\n",
    "\n",
    "\n",
    "dotenv.load_dotenv() # type: ignore\n",
    "\n",
    "\n",
    "print(os.environ)\n",
    "print(os.getenv(\"OPENAI_API_KEY\"))\n"
   ]
  },
  {
   "cell_type": "markdown",
   "metadata": {},
   "source": [
    "#### Testing and Setting up OpenAI Client "
   ]
  },
  {
   "cell_type": "code",
   "execution_count": 15,
   "metadata": {},
   "outputs": [],
   "source": [
    "#Loading the client with chat completion example\n",
    "\n",
    "client = OpenAI()\n",
    "\n",
    "completion = client.chat.completions.create(\n",
    "  model=\"gpt-3.5-turbo\",\n",
    "  messages=[\n",
    "    {\"role\": \"system\", \"content\": \"You are a poetic assistant, skilled in explaining complex programming concepts with creative flair.\"},\n",
    "    {\"role\": \"user\", \"content\": \"Compose a poem that explains the concept of recursion in programming.\"}\n",
    "  ]\n",
    ")"
   ]
  },
  {
   "cell_type": "code",
   "execution_count": 20,
   "metadata": {},
   "outputs": [
    {
     "name": "stdout",
     "output_type": "stream",
     "text": [
      "In the world of code, a tale unfolds,\n",
      "Where recursion's beauty brightly glows.\n",
      "A function calling itself with grace,\n",
      "In an endless, looping embrace.\n",
      "\n",
      "Like a mirror reflecting in endless sight,\n",
      "Recursion echoes through the silent night.\n",
      "Each step repeated with wondrous art,\n",
      "Unraveling logic, touching the heart.\n",
      "\n",
      "A loop of patterns, a dance of rhyme,\n",
      "Unfolding mysteries, one step at a time.\n",
      "Breaking problems into pieces small,\n",
      "Recursive magic, enchanting all.\n",
      "\n",
      "So remember, in the coder's art,\n",
      "Recursion plays a special part.\n",
      "A concept deep, a concept grand,\n",
      "In the programmer's enchanted land.\n"
     ]
    }
   ],
   "source": [
    "print(completion.choices[0].message.content)"
   ]
  },
  {
   "cell_type": "markdown",
   "metadata": {},
   "source": [
    "### Set-up Assistant Client with Code Interpreter enabled on input file"
   ]
  },
  {
   "cell_type": "code",
   "execution_count": 214,
   "metadata": {},
   "outputs": [],
   "source": [
    "#Read input file for assistant / thread\n",
    "file = client.files.create(\n",
    "  file=open(\"tse_takehome_dataset.csv\", \"rb\"),\n",
    "  purpose='assistants'\n",
    ")"
   ]
  },
  {
   "cell_type": "code",
   "execution_count": 234,
   "metadata": {},
   "outputs": [],
   "source": [
    "#Create the Assistant \n",
    "\n",
    "assistant = client.beta.assistants.create(\n",
    "  instructions=\"You are a personal math tutor. When asked a math question, write and run code to answer the question.\",\n",
    "  model=\"gpt-3.5-turbo\",\n",
    "  tools=[{\"type\": \"code_interpreter\"}],\n",
    "  tool_resources={\n",
    "    \"code_interpreter\": {\n",
    "      \"file_ids\": [file.id]\n",
    "    }\n",
    "  }\n",
    ")"
   ]
  },
  {
   "cell_type": "code",
   "execution_count": 220,
   "metadata": {},
   "outputs": [],
   "source": [
    "#Create the thread for the assistant \n",
    "\n",
    "\n",
    "thread = client.beta.threads.create(\n",
    "  messages=[\n",
    "    {\n",
    "      \"role\": \"user\",\n",
    "      \"content\": \"explain from the file attached why a city is each person's favorite city\",\n",
    "    }\n",
    "  ]\n",
    ")\n"
   ]
  },
  {
   "cell_type": "code",
   "execution_count": 221,
   "metadata": {},
   "outputs": [],
   "source": [
    "#Create the run for the thread messages \n",
    "\n",
    "run = client.beta.threads.runs.create_and_poll(\n",
    "  thread_id=thread.id,\n",
    "  assistant_id=assistant.id\n",
    "  #instructions=\"Please address the user as Jane Doe. The user has a premium account.\"\n",
    ")"
   ]
  },
  {
   "cell_type": "code",
   "execution_count": 222,
   "metadata": {},
   "outputs": [
    {
     "name": "stdout",
     "output_type": "stream",
     "text": [
      "SyncCursorPage[Message](data=[Message(id='msg_iRAwjjJbKpaqSKWujljZfHn9', assistant_id='asst_j3uE4fq9712iDZwbzCvRO3Mf', attachments=[], completed_at=None, content=[TextContentBlock(text=Text(annotations=[], value='From the analysis of the \"favourite_city_and_why\" column in the data, we can see the reasons provided by each person for why a specific city is their favorite. Here are the reasons for some individuals:\\n\\n- **James Padilla**: London, for its historical landmarks and diverse cultural scene.\\n- **Eric Rogers**: Paris, for its beautiful architecture.\\n- **Christopher King**: Tokyo, for its unique blend of traditional and modern.\\n- **Tina Escobar**: New York, because of its vibrant city life.\\n- **Joshua Lewis**: Paris, for its beautiful architecture.\\n- **Samantha Becker**: Sydney, for its stunning harbour.\\n- **Jesse Crawford**: Sydney, for its stunning harbour.\\n- **Ronald Jones**: Sydney, for its stunning harbour.\\n- **Michael Ali**: London, for its historical landmarks and diverse cultural scene.\\n- **Kristy Alvarez**: New York, because of its vibrant city life.\\n- **Joseph Martinez**: Tokyo, for its unique blend of traditional and modern.\\n- **Dr. Joel Simmons**: London, for its historical landmarks and diverse cultural scene.\\n- **Sarah King, Sheila Bond, Michael Lewis, Paul Vega**: provide similar reasons for London and Tokyo as their favorite cities.\\n- **Douglas Acosta, Gabriel Roberts, Clifford Edwards**: provide similar reasons for Tokyo as their favorite city.\\n\\nIt appears that the reasons for each person\\'s favorite city vary based on factors such as historical landmarks, cultural scene, architecture, blend of traditional and modern elements, vibrant city life, and stunning natural features.\\n\\nDo you need any more information or analysis on this data?'), type='text')], created_at=1715645556, incomplete_at=None, incomplete_details=None, metadata={}, object='thread.message', role='assistant', run_id='run_htyGmW4KoWOvZssCcn88kEzd', status=None, thread_id='thread_nIUYMTM9LNL9pahYPAIWXuOL'), Message(id='msg_aQagEhq8PxoqEIxcTdA7hvpQ', assistant_id='asst_j3uE4fq9712iDZwbzCvRO3Mf', attachments=[], completed_at=None, content=[TextContentBlock(text=Text(annotations=[], value='The file contains information about several individuals, including their names, company names, favorite memories, favorite cities, favorite foods, occupations, job descriptions, relevant job experiences, and growth plans. \\n\\nTo determine why a city is each person\\'s favorite city, we need to look at the \"favourite_city_and_why\" column in the file. This column provides insight into why each person considers a specific city to be their favorite.\\n\\nLet\\'s analyze the contents of the \"favourite_city_and_why\" column to extract the reasons why each person has chosen a particular city as their favorite.'), type='text')], created_at=1715645550, incomplete_at=None, incomplete_details=None, metadata={}, object='thread.message', role='assistant', run_id='run_htyGmW4KoWOvZssCcn88kEzd', status=None, thread_id='thread_nIUYMTM9LNL9pahYPAIWXuOL'), Message(id='msg_Vm19QQVq8OgtpBl5eUWrKgja', assistant_id='asst_j3uE4fq9712iDZwbzCvRO3Mf', attachments=[], completed_at=None, content=[TextContentBlock(text=Text(annotations=[], value=\"To explain why a city is each person's favorite city, we need to look into the contents of the uploaded file to understand the criteria or preferences that determine each person's favorite city.\\n\\nLet's start by examining the contents of the file to see how the favorite city is determined for each person.\"), type='text')], created_at=1715645546, incomplete_at=None, incomplete_details=None, metadata={}, object='thread.message', role='assistant', run_id='run_htyGmW4KoWOvZssCcn88kEzd', status=None, thread_id='thread_nIUYMTM9LNL9pahYPAIWXuOL'), Message(id='msg_NP6NInY8xYioCmENFGUh87Bh', assistant_id=None, attachments=[], completed_at=None, content=[TextContentBlock(text=Text(annotations=[], value=\"explain from the file attached why a city is each person's favorite city\"), type='text')], created_at=1715645543, incomplete_at=None, incomplete_details=None, metadata={}, object='thread.message', role='user', run_id=None, status=None, thread_id='thread_nIUYMTM9LNL9pahYPAIWXuOL')], object='list', first_id='msg_iRAwjjJbKpaqSKWujljZfHn9', last_id='msg_NP6NInY8xYioCmENFGUh87Bh', has_more=False)\n"
     ]
    }
   ],
   "source": [
    "#Print run messages without streaming \n",
    "if run.status == 'completed': \n",
    "  messages = client.beta.threads.messages.list(\n",
    "    thread_id=thread.id\n",
    "  )\n",
    "  print(messages)\n",
    "else:\n",
    "  print(run.status)"
   ]
  },
  {
   "cell_type": "code",
   "execution_count": 223,
   "metadata": {},
   "outputs": [
    {
     "name": "stdout",
     "output_type": "stream",
     "text": [
      "To explain why a city is each person's favorite city, we need to look into the contents of the uploaded file to understand the criteria or preferences that determine each person's favorite city.\n",
      "\n",
      "Let's start by examining the contents of the file to see how the favorite city is determined for each person.\n",
      "The file contains information about several individuals, including their names, company names, favorite memories, favorite cities, favorite foods, occupations, job descriptions, relevant job experiences, and growth plans. \n",
      "\n",
      "To determine why a city is each person's favorite city, we need to look at the \"favourite_city_and_why\" column in the file. This column provides insight into why each person considers a specific city to be their favorite.\n",
      "\n",
      "Let's analyze the contents of the \"favourite_city_and_why\" column to extract the reasons why each person has chosen a particular city as their favorite.\n",
      "From the analysis of the \"favourite_city_and_why\" column in the data, we can see the reasons provided by each person for why a specific city is their favorite. Here are the reasons for some individuals:\n",
      "\n",
      "- **James Padilla**: London, for its historical landmarks and diverse cultural scene.\n",
      "- **Eric Rogers**: Paris, for its beautiful architecture.\n",
      "- **Christopher King**: Tokyo, for its unique blend of traditional and modern.\n",
      "- **Tina Escobar**: New York, because of its vibrant city life.\n",
      "- **Joshua Lewis**: Paris, for its beautiful architecture.\n",
      "- **Samantha Becker**: Sydney, for its stunning harbour.\n",
      "- **Jesse Crawford**: Sydney, for its stunning harbour.\n",
      "- **Ronald Jones**: Sydney, for its stunning harbour.\n",
      "- **Michael Ali**: London, for its historical landmarks and diverse cultural scene.\n",
      "- **Kristy Alvarez**: New York, because of its vibrant city life.\n",
      "- **Joseph Martinez**: Tokyo, for its unique blend of traditional and modern.\n",
      "- **Dr. Joel Simmons**: London, for its historical landmarks and diverse cultural scene.\n",
      "- **Sarah King, Sheila Bond, Michael Lewis, Paul Vega**: provide similar reasons for London and Tokyo as their favorite cities.\n",
      "- **Douglas Acosta, Gabriel Roberts, Clifford Edwards**: provide similar reasons for Tokyo as their favorite city.\n",
      "\n",
      "It appears that the reasons for each person's favorite city vary based on factors such as historical landmarks, cultural scene, architecture, blend of traditional and modern elements, vibrant city life, and stunning natural features.\n",
      "\n",
      "Do you need any more information or analysis on this data?\n"
     ]
    }
   ],
   "source": [
    "#Pretty print Assistant messages. Similar to text output on the Playground and Recommended ChatGPT interface\n",
    "\n",
    "saved_data = []\n",
    "\n",
    "\n",
    "for i in messages.data:\n",
    "    message_dict = {\n",
    "    \"id\": i.id,\n",
    "    \"assistant_id\": i.assistant_id,\n",
    "    \"thread_id\": i.thread_id,\n",
    "    \"content\":i.content,\n",
    "    \"role\": i.role\n",
    "    # Add more attributes as needed\n",
    "    }\n",
    "    saved_data.append(message_dict)\n",
    "\n",
    "for j in range(len(saved_data) - 1, -1, -1):\n",
    "    if saved_data[j][\"role\"] =='assistant':\n",
    "        print(saved_data[j][\"content\"][0].text.value)"
   ]
  },
  {
   "cell_type": "markdown",
   "metadata": {},
   "source": [
    "#### Dataset Troubleshooting using Pandas\n",
    "\n",
    "Investigate the data inputs using Pandas"
   ]
  },
  {
   "cell_type": "code",
   "execution_count": 225,
   "metadata": {},
   "outputs": [
    {
     "data": {
      "text/plain": [
       "Index(['date', 'name', 'company_name', 'description_of_company',\n",
       "       'favourite_memory', 'favourite_city_and_why', 'favourite_food_and_why',\n",
       "       'occupation', 'description_of_job', 'experience_relevant_to_job',\n",
       "       'growth_plan'],\n",
       "      dtype='object')"
      ]
     },
     "execution_count": 225,
     "metadata": {},
     "output_type": "execute_result"
    }
   ],
   "source": [
    "df = pd.read_csv('tse_takehome_dataset.csv')\n",
    "df.columns\n"
   ]
  },
  {
   "cell_type": "code",
   "execution_count": 226,
   "metadata": {},
   "outputs": [],
   "source": [
    "df1=df[['name','favourite_city_and_why','favourite_food_and_why']]"
   ]
  },
  {
   "cell_type": "code",
   "execution_count": 227,
   "metadata": {},
   "outputs": [
    {
     "data": {
      "text/html": [
       "<div>\n",
       "<style scoped>\n",
       "    .dataframe tbody tr th:only-of-type {\n",
       "        vertical-align: middle;\n",
       "    }\n",
       "\n",
       "    .dataframe tbody tr th {\n",
       "        vertical-align: top;\n",
       "    }\n",
       "\n",
       "    .dataframe thead th {\n",
       "        text-align: right;\n",
       "    }\n",
       "</style>\n",
       "<table border=\"1\" class=\"dataframe\">\n",
       "  <thead>\n",
       "    <tr style=\"text-align: right;\">\n",
       "      <th></th>\n",
       "      <th>name</th>\n",
       "      <th>favourite_city_and_why</th>\n",
       "      <th>favourite_food_and_why</th>\n",
       "    </tr>\n",
       "  </thead>\n",
       "  <tbody>\n",
       "    <tr>\n",
       "      <th>0</th>\n",
       "      <td>James Padilla</td>\n",
       "      <td>London, for its historical landmarks and diverse cultural scene. for its historical landmarks and diverse cultural scene. Additionally, London has hosted the Summer Olympics three times: in 1908, 1948, and 2012.</td>\n",
       "      <td>Pizza, because it's versatile, delicious, and brings people together.</td>\n",
       "    </tr>\n",
       "    <tr>\n",
       "      <th>1</th>\n",
       "      <td>Eric Rogers</td>\n",
       "      <td>Paris, for its beautiful architecture for its beautiful architecture Additionally, The Eiffel Tower was supposed to be a temporary installation, intended to stand for 20 years after being constructed for the 1889 World Fair.</td>\n",
       "      <td>Chocolate, because it's comforting, decadent, and a sweet treat for any occasion.</td>\n",
       "    </tr>\n",
       "    <tr>\n",
       "      <th>2</th>\n",
       "      <td>Christopher King</td>\n",
       "      <td>Tokyo, for its unique blend of traditional and modern for its unique blend of traditional and modern Additionally, It's considered one of the world's most important and powerful global cities.</td>\n",
       "      <td>Sushi, for its fresh flavors and artful presentation.</td>\n",
       "    </tr>\n",
       "    <tr>\n",
       "      <th>3</th>\n",
       "      <td>Tina Escobar</td>\n",
       "      <td>New York, because of its vibrant city life and diversity. because of its vibrant city life and diversity. Additionally, It's home to the largest metropolitan zoo in the US.</td>\n",
       "      <td>Pasta, for its comfort, versatility in dishes, and rich flavors.</td>\n",
       "    </tr>\n",
       "    <tr>\n",
       "      <th>4</th>\n",
       "      <td>Joshua Lewis</td>\n",
       "      <td>Paris, for its beautiful architecture for its beautiful architecture Additionally, Paris is known as the 'City of Light', originally because of its leading role during the Age of Enlightenment and more literally because Paris was one of the first large European cities to use gas street lighting on a grand scale on its boulevards and monuments.</td>\n",
       "      <td>Pizza, because it's versatile, delicious, and brings people together.</td>\n",
       "    </tr>\n",
       "    <tr>\n",
       "      <th>5</th>\n",
       "      <td>Samantha Becker</td>\n",
       "      <td>Sydney, for its stunning harbour for its stunning harbour Additionally, Sydney Harbour Bridge is the world's largest steel arch bridge.</td>\n",
       "      <td>Chocolate, because it's comforting, decadent, and a sweet treat for any occasion.</td>\n",
       "    </tr>\n",
       "    <tr>\n",
       "      <th>6</th>\n",
       "      <td>Jesse Crawford</td>\n",
       "      <td>Sydney, for its stunning harbour for its stunning harbour Additionally, The Sydney Opera House design was inspired by orange segments.</td>\n",
       "      <td>Pasta, for its comfort, versatility in dishes, and rich flavors.</td>\n",
       "    </tr>\n",
       "    <tr>\n",
       "      <th>7</th>\n",
       "      <td>Ronald Jones</td>\n",
       "      <td>Sydney, for its stunning harbour for its stunning harbour Additionally, The Sydney Opera House design was inspired by orange segments.</td>\n",
       "      <td>Pizza, because it's versatile, delicious, and brings people together.</td>\n",
       "    </tr>\n",
       "    <tr>\n",
       "      <th>8</th>\n",
       "      <td>Michael Ali</td>\n",
       "      <td>London, for its historical landmarks and diverse cultural scene. for its historical landmarks and diverse cultural scene. Additionally, London has hosted the Summer Olympics three times: in 1908, 1948, and 2012.</td>\n",
       "      <td>Tacos, for their flavor-packed bites and customizable fillings.</td>\n",
       "    </tr>\n",
       "    <tr>\n",
       "      <th>9</th>\n",
       "      <td>Kristy Alvarez</td>\n",
       "      <td>New York, because of its vibrant city life and diversity. because of its vibrant city life and diversity. Additionally, It's home to the largest metropolitan zoo in the US.</td>\n",
       "      <td>Sushi, for its fresh flavors and artful presentation.</td>\n",
       "    </tr>\n",
       "    <tr>\n",
       "      <th>10</th>\n",
       "      <td>Joseph Martinez</td>\n",
       "      <td>Tokyo, for its unique blend of traditional and modern for its unique blend of traditional and modern Additionally, Tokyo was once known as Edo.</td>\n",
       "      <td>Pizza, because it's versatile, delicious, and brings people together.</td>\n",
       "    </tr>\n",
       "    <tr>\n",
       "      <th>11</th>\n",
       "      <td>Dr. Joel Simmons</td>\n",
       "      <td>London, for its historical landmarks and diverse cultural scene. for its historical landmarks and diverse cultural scene. Additionally, More than half of the London Underground network actually runs above ground.</td>\n",
       "      <td>Sushi, for its fresh flavors and artful presentation.</td>\n",
       "    </tr>\n",
       "    <tr>\n",
       "      <th>12</th>\n",
       "      <td>Sarah King</td>\n",
       "      <td>Tokyo, for its unique blend of traditional and modern for its unique blend of traditional and modern Additionally, Tokyo was once known as Edo.</td>\n",
       "      <td>Pasta, for its comfort, versatility in dishes, and rich flavors.</td>\n",
       "    </tr>\n",
       "    <tr>\n",
       "      <th>13</th>\n",
       "      <td>Sheila Bond</td>\n",
       "      <td>Tokyo, for its unique blend of traditional and modern for its unique blend of traditional and modern Additionally, Tokyo was once known as Edo.</td>\n",
       "      <td>Pizza, because it's versatile, delicious, and brings people together.</td>\n",
       "    </tr>\n",
       "    <tr>\n",
       "      <th>14</th>\n",
       "      <td>Michael Lewis</td>\n",
       "      <td>London, for its historical landmarks and diverse cultural scene. for its historical landmarks and diverse cultural scene. Additionally, More than half of the London Underground network actually runs above ground.</td>\n",
       "      <td>Tacos, for their flavor-packed bites and customizable fillings.</td>\n",
       "    </tr>\n",
       "    <tr>\n",
       "      <th>15</th>\n",
       "      <td>Rachael Guerrero</td>\n",
       "      <td>New York, because of its vibrant city life and diversity. because of its vibrant city life and diversity. Additionally, More than 800 languages are spoken in New York, making it the most linguistically diverse city in the world.</td>\n",
       "      <td>Tacos, for their flavor-packed bites and customizable fillings.</td>\n",
       "    </tr>\n",
       "    <tr>\n",
       "      <th>16</th>\n",
       "      <td>Paul Vega</td>\n",
       "      <td>London, for its historical landmarks and diverse cultural scene. for its historical landmarks and diverse cultural scene. Additionally, London has hosted the Summer Olympics three times: in 1908, 1948, and 2012.</td>\n",
       "      <td>Pasta, for its comfort, versatility in dishes, and rich flavors.</td>\n",
       "    </tr>\n",
       "    <tr>\n",
       "      <th>17</th>\n",
       "      <td>Douglas Acosta</td>\n",
       "      <td>Tokyo, for its unique blend of traditional and modern for its unique blend of traditional and modern Additionally, It's considered one of the world's most important and powerful global cities.</td>\n",
       "      <td>Pasta, for its comfort, versatility in dishes, and rich flavors.</td>\n",
       "    </tr>\n",
       "    <tr>\n",
       "      <th>18</th>\n",
       "      <td>Gabriel Roberts</td>\n",
       "      <td>London, for its historical landmarks and diverse cultural scene. for its historical landmarks and diverse cultural scene. Additionally, London has hosted the Summer Olympics three times: in 1908, 1948, and 2012.</td>\n",
       "      <td>Sushi, for its fresh flavors and artful presentation.</td>\n",
       "    </tr>\n",
       "    <tr>\n",
       "      <th>19</th>\n",
       "      <td>Clifford Edwards</td>\n",
       "      <td>Tokyo, for its unique blend of traditional and modern for its unique blend of traditional and modern Additionally, It's considered one of the world's most important and powerful global cities.</td>\n",
       "      <td>Chocolate, because it's comforting, decadent, and a sweet treat for any occasion.</td>\n",
       "    </tr>\n",
       "  </tbody>\n",
       "</table>\n",
       "</div>"
      ],
      "text/plain": [
       "                name  \\\n",
       "0      James Padilla   \n",
       "1        Eric Rogers   \n",
       "2   Christopher King   \n",
       "3       Tina Escobar   \n",
       "4       Joshua Lewis   \n",
       "5    Samantha Becker   \n",
       "6     Jesse Crawford   \n",
       "7       Ronald Jones   \n",
       "8        Michael Ali   \n",
       "9     Kristy Alvarez   \n",
       "10   Joseph Martinez   \n",
       "11  Dr. Joel Simmons   \n",
       "12        Sarah King   \n",
       "13       Sheila Bond   \n",
       "14     Michael Lewis   \n",
       "15  Rachael Guerrero   \n",
       "16         Paul Vega   \n",
       "17    Douglas Acosta   \n",
       "18   Gabriel Roberts   \n",
       "19  Clifford Edwards   \n",
       "\n",
       "                                                                                                                                                                                                                                                                                                                                       favourite_city_and_why  \\\n",
       "0                                                                                                                                         London, for its historical landmarks and diverse cultural scene. for its historical landmarks and diverse cultural scene. Additionally, London has hosted the Summer Olympics three times: in 1908, 1948, and 2012.   \n",
       "1                                                                                                                            Paris, for its beautiful architecture for its beautiful architecture Additionally, The Eiffel Tower was supposed to be a temporary installation, intended to stand for 20 years after being constructed for the 1889 World Fair.   \n",
       "2                                                                                                                                                            Tokyo, for its unique blend of traditional and modern for its unique blend of traditional and modern Additionally, It's considered one of the world's most important and powerful global cities.   \n",
       "3                                                                                                                                                                                New York, because of its vibrant city life and diversity. because of its vibrant city life and diversity. Additionally, It's home to the largest metropolitan zoo in the US.   \n",
       "4   Paris, for its beautiful architecture for its beautiful architecture Additionally, Paris is known as the 'City of Light', originally because of its leading role during the Age of Enlightenment and more literally because Paris was one of the first large European cities to use gas street lighting on a grand scale on its boulevards and monuments.   \n",
       "5                                                                                                                                                                                                                     Sydney, for its stunning harbour for its stunning harbour Additionally, Sydney Harbour Bridge is the world's largest steel arch bridge.   \n",
       "6                                                                                                                                                                                                                      Sydney, for its stunning harbour for its stunning harbour Additionally, The Sydney Opera House design was inspired by orange segments.   \n",
       "7                                                                                                                                                                                                                      Sydney, for its stunning harbour for its stunning harbour Additionally, The Sydney Opera House design was inspired by orange segments.   \n",
       "8                                                                                                                                         London, for its historical landmarks and diverse cultural scene. for its historical landmarks and diverse cultural scene. Additionally, London has hosted the Summer Olympics three times: in 1908, 1948, and 2012.   \n",
       "9                                                                                                                                                                                New York, because of its vibrant city life and diversity. because of its vibrant city life and diversity. Additionally, It's home to the largest metropolitan zoo in the US.   \n",
       "10                                                                                                                                                                                                            Tokyo, for its unique blend of traditional and modern for its unique blend of traditional and modern Additionally, Tokyo was once known as Edo.   \n",
       "11                                                                                                                                       London, for its historical landmarks and diverse cultural scene. for its historical landmarks and diverse cultural scene. Additionally, More than half of the London Underground network actually runs above ground.   \n",
       "12                                                                                                                                                                                                            Tokyo, for its unique blend of traditional and modern for its unique blend of traditional and modern Additionally, Tokyo was once known as Edo.   \n",
       "13                                                                                                                                                                                                            Tokyo, for its unique blend of traditional and modern for its unique blend of traditional and modern Additionally, Tokyo was once known as Edo.   \n",
       "14                                                                                                                                       London, for its historical landmarks and diverse cultural scene. for its historical landmarks and diverse cultural scene. Additionally, More than half of the London Underground network actually runs above ground.   \n",
       "15                                                                                                                       New York, because of its vibrant city life and diversity. because of its vibrant city life and diversity. Additionally, More than 800 languages are spoken in New York, making it the most linguistically diverse city in the world.   \n",
       "16                                                                                                                                        London, for its historical landmarks and diverse cultural scene. for its historical landmarks and diverse cultural scene. Additionally, London has hosted the Summer Olympics three times: in 1908, 1948, and 2012.   \n",
       "17                                                                                                                                                           Tokyo, for its unique blend of traditional and modern for its unique blend of traditional and modern Additionally, It's considered one of the world's most important and powerful global cities.   \n",
       "18                                                                                                                                        London, for its historical landmarks and diverse cultural scene. for its historical landmarks and diverse cultural scene. Additionally, London has hosted the Summer Olympics three times: in 1908, 1948, and 2012.   \n",
       "19                                                                                                                                                           Tokyo, for its unique blend of traditional and modern for its unique blend of traditional and modern Additionally, It's considered one of the world's most important and powerful global cities.   \n",
       "\n",
       "                                                               favourite_food_and_why  \n",
       "0               Pizza, because it's versatile, delicious, and brings people together.  \n",
       "1   Chocolate, because it's comforting, decadent, and a sweet treat for any occasion.  \n",
       "2                               Sushi, for its fresh flavors and artful presentation.  \n",
       "3                    Pasta, for its comfort, versatility in dishes, and rich flavors.  \n",
       "4               Pizza, because it's versatile, delicious, and brings people together.  \n",
       "5   Chocolate, because it's comforting, decadent, and a sweet treat for any occasion.  \n",
       "6                    Pasta, for its comfort, versatility in dishes, and rich flavors.  \n",
       "7               Pizza, because it's versatile, delicious, and brings people together.  \n",
       "8                     Tacos, for their flavor-packed bites and customizable fillings.  \n",
       "9                               Sushi, for its fresh flavors and artful presentation.  \n",
       "10              Pizza, because it's versatile, delicious, and brings people together.  \n",
       "11                              Sushi, for its fresh flavors and artful presentation.  \n",
       "12                   Pasta, for its comfort, versatility in dishes, and rich flavors.  \n",
       "13              Pizza, because it's versatile, delicious, and brings people together.  \n",
       "14                    Tacos, for their flavor-packed bites and customizable fillings.  \n",
       "15                    Tacos, for their flavor-packed bites and customizable fillings.  \n",
       "16                   Pasta, for its comfort, versatility in dishes, and rich flavors.  \n",
       "17                   Pasta, for its comfort, versatility in dishes, and rich flavors.  \n",
       "18                              Sushi, for its fresh flavors and artful presentation.  \n",
       "19  Chocolate, because it's comforting, decadent, and a sweet treat for any occasion.  "
      ]
     },
     "execution_count": 227,
     "metadata": {},
     "output_type": "execute_result"
    }
   ],
   "source": [
    "# Keeping pandas from truncating long strings\n",
    "pd.set_option('display.max_colwidth', 100000)\n",
    "df1.head(20)"
   ]
  },
  {
   "cell_type": "markdown",
   "metadata": {},
   "source": [
    "#### Issue identified:\n",
    " \"favourite_city_and_why\" needs to be clean-up and formatted similar to \"favourite_food_and_why\"\n",
    "\n",
    "Steps:\n",
    "1. Extract true reason for favorite city for each individual by spliting the string on \"Additionally,\" and picking the last element in the array\n",
    "2. Extract the city from the string by splitting the string on \",\" and picking the first element in the array\n",
    "3. Replace the \"favourite_city_and_why\" column with the cleaned up city and reason\n",
    "4. Create a new csv named \"tse_takehome_dataset_fixed.csv\" with the cleaned up data for favourite_city_and_why\n",
    "5. Rerun Assistant and model output using results from \"tse_takehome_dataset_fixed_results.csv\""
   ]
  },
  {
   "cell_type": "code",
   "execution_count": 228,
   "metadata": {},
   "outputs": [
    {
     "name": "stdout",
     "output_type": "stream",
     "text": [
      "London, because London has hosted the Summer Olympics three times: in 1908, 1948, and 2012.\n",
      "Paris, because The Eiffel Tower was supposed to be a temporary installation, intended to stand for 20 years after being constructed for the 1889 World Fair.\n",
      "Tokyo, because It's considered one of the world's most important and powerful global cities.\n",
      "New York, because It's home to the largest metropolitan zoo in the US.\n",
      "Paris, because Paris is known as the 'City of Light', originally because of its leading role during the Age of Enlightenment and more literally because Paris was one of the first large European cities to use gas street lighting on a grand scale on its boulevards and monuments.\n",
      "Sydney, because Sydney Harbour Bridge is the world's largest steel arch bridge.\n",
      "Sydney, because The Sydney Opera House design was inspired by orange segments.\n",
      "Sydney, because The Sydney Opera House design was inspired by orange segments.\n",
      "London, because London has hosted the Summer Olympics three times: in 1908, 1948, and 2012.\n",
      "New York, because It's home to the largest metropolitan zoo in the US.\n",
      "Tokyo, because Tokyo was once known as Edo.\n",
      "London, because More than half of the London Underground network actually runs above ground.\n",
      "Tokyo, because Tokyo was once known as Edo.\n",
      "Tokyo, because Tokyo was once known as Edo.\n",
      "London, because More than half of the London Underground network actually runs above ground.\n",
      "New York, because More than 800 languages are spoken in New York, making it the most linguistically diverse city in the world.\n",
      "London, because London has hosted the Summer Olympics three times: in 1908, 1948, and 2012.\n",
      "Tokyo, because It's considered one of the world's most important and powerful global cities.\n",
      "London, because London has hosted the Summer Olympics three times: in 1908, 1948, and 2012.\n",
      "Tokyo, because It's considered one of the world's most important and powerful global cities.\n"
     ]
    }
   ],
   "source": [
    "import re\n",
    "\n",
    "# Clean up \"favourite_city_and_why\" column in the dataset\n",
    "text = df[\"favourite_city_and_why\"]\n",
    "list_updated = []\n",
    "\n",
    "for i in text:\n",
    "    why_favorite_city= i.split('Additionally,')[1]\n",
    "    city= i.split('Additionally,')[0].split(',')[0]\n",
    "    favorite_city_and_why= city + ', because' + why_favorite_city\n",
    "\n",
    "    # Split the string using comma and period as delimiters\n",
    "    #result = re.split(r'[.,]', i)\n",
    "\n",
    "    # Remove empty strings from the list\n",
    "    # result = [x for x in result if x !='']\n",
    "    print(favorite_city_and_why)\n",
    "    list_updated.append(favorite_city_and_why)"
   ]
  },
  {
   "cell_type": "code",
   "execution_count": 229,
   "metadata": {},
   "outputs": [],
   "source": [
    "#update dataset dataframe with new values\n",
    "df[\"favourite_city_and_why\"]= list_updated"
   ]
  },
  {
   "cell_type": "code",
   "execution_count": 230,
   "metadata": {},
   "outputs": [],
   "source": [
    "#write to data to csv file\n",
    "df.to_csv('tse_takehome_dataset_fixed.csv', index=False)"
   ]
  },
  {
   "cell_type": "code",
   "execution_count": null,
   "metadata": {},
   "outputs": [],
   "source": []
  },
  {
   "cell_type": "markdown",
   "metadata": {},
   "source": [
    "#### Re-run Assistant Client with Code Interpretor and check new model output to prompt"
   ]
  },
  {
   "cell_type": "code",
   "execution_count": 260,
   "metadata": {},
   "outputs": [],
   "source": [
    "#Read input file for assistant / thread\n",
    "file = client.files.create(\n",
    "  file=open(\"tse_takehome_dataset_fixed.csv\", \"rb\"),\n",
    "  purpose='assistants'\n",
    ")"
   ]
  },
  {
   "cell_type": "code",
   "execution_count": 250,
   "metadata": {},
   "outputs": [],
   "source": [
    "#Create the Assistant \n",
    "\n",
    "assistant = client.beta.assistants.create(\n",
    "  #instructions=\"Analyze the data and provide insights and answers to the prompts\",\n",
    "  model=\"gpt-3.5-turbo\",\n",
    "  tools=[{\"type\": \"code_interpreter\"}],\n",
    "  tool_resources={\n",
    "    \"code_interpreter\": {\n",
    "      \"file_ids\": [file.id]\n",
    "    }\n",
    "  }\n",
    ")"
   ]
  },
  {
   "cell_type": "code",
   "execution_count": 261,
   "metadata": {},
   "outputs": [],
   "source": [
    "#Create the thread for the assistant \n",
    "\n",
    "\n",
    "thread = client.beta.threads.create(\n",
    "  messages=[\n",
    "    {\n",
    "      \"role\": \"user\",\n",
    "      \"content\": \"explain from the file attached why a city is each person's favorite city\",\n",
    "    }\n",
    "  ]\n",
    ")\n"
   ]
  },
  {
   "cell_type": "code",
   "execution_count": 262,
   "metadata": {},
   "outputs": [],
   "source": [
    "#Create the run for the thread messages \n",
    "\n",
    "run = client.beta.threads.runs.create_and_poll(\n",
    "  thread_id=thread.id,\n",
    "  assistant_id=assistant.id\n",
    "  #instructions=\"Please address the user as Jane Doe. The user has a premium account.\"\n",
    ")"
   ]
  },
  {
   "cell_type": "code",
   "execution_count": 263,
   "metadata": {},
   "outputs": [
    {
     "name": "stdout",
     "output_type": "stream",
     "text": [
      "SyncCursorPage[Message](data=[Message(id='msg_g6jGzAes0DHckWH4YSEcyDlo', assistant_id='asst_12lWyIFyKhTW1xTsVPEjlPZH', attachments=[], completed_at=None, content=[TextContentBlock(text=Text(annotations=[], value=\"Here is the information on why each person's favorite city is their favorite:\\n\\n- **James Padilla:** London, because London has hosted the Summer Olympics three times: in 1908, 1948, and 2012.\\n- **Eric Rogers:** Paris, because The Eiffel Tower was supposed to be a temporary installation, intended to stand for 20 years after being constructed for the 1889 World Fair.\\n- **Christopher King:** Tokyo, because it's considered one of the world's most important and powerful global cities.\\n- **Tina Escobar:** New York, because it's home to the largest metropolitan zoo in the US.\\n- **Joshua Lewis:** Paris, because Paris is known as the 'City of Light', originally because of its leading role during the Age of Enlightenment and more literally because Paris was one of the first large European cities to use gas street lighting on a grand scale on its boulevards and monuments.\\n- **Samantha Becker:** Sydney, because Sydney Harbour Bridge is the world's largest steel arch bridge.\\n- **Jesse Crawford:** Sydney, because The Sydney Opera House design was inspired by orange segments.\\n- **Ronald Jones:** Sydney, because The Sydney Opera House design was inspired by orange segments.\\n- **Michael Ali:** London, because London has hosted the Summer Olympics three times: in 1908, 1948, and 2012.\\n- **Kristy Alvarez:** New York, because it's home to the largest metropolitan zoo in the US.\\n- **Joseph Martinez:** Tokyo, because Tokyo was once known as Edo.\\n- **Dr. Joel Simmons:** London, because More than half of the London Underground network actually runs above ground.\\n- **Sarah King:** Tokyo, because Tokyo was once known as Edo.\\n- **Sheila Bond:** Tokyo, because Tokyo was once known as Edo.\\n- **Michael Lewis:** London, because More than half of the London Underground network actually runs above ground.\\n- **Rachael Guerrero:** New York, because more than 800 languages are spoken in New York, making it the most linguistically diverse city in the world.\"), type='text')], created_at=1715648631, incomplete_at=None, incomplete_details=None, metadata={}, object='thread.message', role='assistant', run_id='run_a62Ak1ncNPhuJx4R6bVvbZ7U', status=None, thread_id='thread_p0cCysTLUFYv9W2PEKC6JixT'), Message(id='msg_X6dUfbGdKKqUTkzAlyssTjIq', assistant_id='asst_12lWyIFyKhTW1xTsVPEjlPZH', attachments=[], completed_at=None, content=[TextContentBlock(text=Text(annotations=[], value='The file contains data in a CSV format, with each line representing an individual\\'s information. Here are the fields present in the file:\\n\\n1. date\\n2. name\\n3. company_name\\n4. description_of_company\\n5. favourite_memory\\n6. favourite_city_and_why\\n7. favourite_food_and_why\\n8. occupation\\n9. description_of_job\\n10. experience_relevant_to_job\\n11. growth_plan\\n\\nTo determine why a city is each person\\'s favorite city, we will focus on the \"favourite_city_and_why\" field. We will extract this information along with the person\\'s name from each line in the file.\\n\\nLet\\'s extract this information and analyze why each city is each person\\'s favorite.'), type='text')], created_at=1715648625, incomplete_at=None, incomplete_details=None, metadata={}, object='thread.message', role='assistant', run_id='run_a62Ak1ncNPhuJx4R6bVvbZ7U', status=None, thread_id='thread_p0cCysTLUFYv9W2PEKC6JixT'), Message(id='msg_ZB2fvtb6O83wKvDyoGpENoOG', assistant_id='asst_12lWyIFyKhTW1xTsVPEjlPZH', attachments=[], completed_at=None, content=[TextContentBlock(text=Text(annotations=[], value=\"To help you analyze the file and determine why a city is each person's favorite city, I will first need to read the contents of the file to understand its structure. Let's start by loading the file and examining its contents.\"), type='text')], created_at=1715648621, incomplete_at=None, incomplete_details=None, metadata={}, object='thread.message', role='assistant', run_id='run_a62Ak1ncNPhuJx4R6bVvbZ7U', status=None, thread_id='thread_p0cCysTLUFYv9W2PEKC6JixT'), Message(id='msg_13SN0dv1Dj1l4cb248FsQlJg', assistant_id=None, attachments=[], completed_at=None, content=[TextContentBlock(text=Text(annotations=[], value=\"explain from the file attached why a city is each person's favorite city\"), type='text')], created_at=1715648618, incomplete_at=None, incomplete_details=None, metadata={}, object='thread.message', role='user', run_id=None, status=None, thread_id='thread_p0cCysTLUFYv9W2PEKC6JixT')], object='list', first_id='msg_g6jGzAes0DHckWH4YSEcyDlo', last_id='msg_13SN0dv1Dj1l4cb248FsQlJg', has_more=False)\n"
     ]
    }
   ],
   "source": [
    "#Print run messages without streaming \n",
    "if run.status == 'completed': \n",
    "  messages = client.beta.threads.messages.list(\n",
    "    thread_id=thread.id\n",
    "  )\n",
    "  print(messages)\n",
    "else:\n",
    "  print(run.status)"
   ]
  },
  {
   "cell_type": "code",
   "execution_count": 264,
   "metadata": {},
   "outputs": [
    {
     "name": "stdout",
     "output_type": "stream",
     "text": [
      "To help you analyze the file and determine why a city is each person's favorite city, I will first need to read the contents of the file to understand its structure. Let's start by loading the file and examining its contents.\n",
      "The file contains data in a CSV format, with each line representing an individual's information. Here are the fields present in the file:\n",
      "\n",
      "1. date\n",
      "2. name\n",
      "3. company_name\n",
      "4. description_of_company\n",
      "5. favourite_memory\n",
      "6. favourite_city_and_why\n",
      "7. favourite_food_and_why\n",
      "8. occupation\n",
      "9. description_of_job\n",
      "10. experience_relevant_to_job\n",
      "11. growth_plan\n",
      "\n",
      "To determine why a city is each person's favorite city, we will focus on the \"favourite_city_and_why\" field. We will extract this information along with the person's name from each line in the file.\n",
      "\n",
      "Let's extract this information and analyze why each city is each person's favorite.\n",
      "Here is the information on why each person's favorite city is their favorite:\n",
      "\n",
      "- **James Padilla:** London, because London has hosted the Summer Olympics three times: in 1908, 1948, and 2012.\n",
      "- **Eric Rogers:** Paris, because The Eiffel Tower was supposed to be a temporary installation, intended to stand for 20 years after being constructed for the 1889 World Fair.\n",
      "- **Christopher King:** Tokyo, because it's considered one of the world's most important and powerful global cities.\n",
      "- **Tina Escobar:** New York, because it's home to the largest metropolitan zoo in the US.\n",
      "- **Joshua Lewis:** Paris, because Paris is known as the 'City of Light', originally because of its leading role during the Age of Enlightenment and more literally because Paris was one of the first large European cities to use gas street lighting on a grand scale on its boulevards and monuments.\n",
      "- **Samantha Becker:** Sydney, because Sydney Harbour Bridge is the world's largest steel arch bridge.\n",
      "- **Jesse Crawford:** Sydney, because The Sydney Opera House design was inspired by orange segments.\n",
      "- **Ronald Jones:** Sydney, because The Sydney Opera House design was inspired by orange segments.\n",
      "- **Michael Ali:** London, because London has hosted the Summer Olympics three times: in 1908, 1948, and 2012.\n",
      "- **Kristy Alvarez:** New York, because it's home to the largest metropolitan zoo in the US.\n",
      "- **Joseph Martinez:** Tokyo, because Tokyo was once known as Edo.\n",
      "- **Dr. Joel Simmons:** London, because More than half of the London Underground network actually runs above ground.\n",
      "- **Sarah King:** Tokyo, because Tokyo was once known as Edo.\n",
      "- **Sheila Bond:** Tokyo, because Tokyo was once known as Edo.\n",
      "- **Michael Lewis:** London, because More than half of the London Underground network actually runs above ground.\n",
      "- **Rachael Guerrero:** New York, because more than 800 languages are spoken in New York, making it the most linguistically diverse city in the world.\n"
     ]
    }
   ],
   "source": [
    "#Pretty print Assistant messages. Similar to text output on the Playground and Recommended ChatGPT interface\n",
    "\n",
    "saved_data = []\n",
    "\n",
    "\n",
    "for i in messages.data:\n",
    "    message_dict = {\n",
    "    \"id\": i.id,\n",
    "    \"assistant_id\": i.assistant_id,\n",
    "    \"thread_id\": i.thread_id,\n",
    "    \"content\":i.content,\n",
    "    \"role\": i.role\n",
    "    # Add more attributes as needed\n",
    "    }\n",
    "    saved_data.append(message_dict)\n",
    "\n",
    "for j in range(len(saved_data) - 1, -1, -1):\n",
    "    if saved_data[j][\"role\"] =='assistant':\n",
    "        print(saved_data[j][\"content\"][0].text.value)"
   ]
  }
 ],
 "metadata": {
  "kernelspec": {
   "display_name": ".venv",
   "language": "python",
   "name": "python3"
  },
  "language_info": {
   "codemirror_mode": {
    "name": "ipython",
    "version": 3
   },
   "file_extension": ".py",
   "mimetype": "text/x-python",
   "name": "python",
   "nbconvert_exporter": "python",
   "pygments_lexer": "ipython3",
   "version": "3.11.1"
  }
 },
 "nbformat": 4,
 "nbformat_minor": 2
}
